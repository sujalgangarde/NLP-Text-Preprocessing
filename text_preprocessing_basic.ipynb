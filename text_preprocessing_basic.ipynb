{
 "cells": [
  {
   "cell_type": "code",
   "execution_count": 1,
   "id": "4a9879ac",
   "metadata": {},
   "outputs": [],
   "source": [
    "# !pip install pandas numpy nltk spacy seaborn matplotlib"
   ]
  },
  {
   "cell_type": "code",
   "execution_count": 2,
   "id": "96722de6",
   "metadata": {},
   "outputs": [
    {
     "name": "stdout",
     "output_type": "stream",
     "text": [
      "Initial Data:\n",
      "                                         text\n",
      "0       Natural Language Processing is fun! 😊\n",
      "1        I can't believe it's already 2025...\n",
      "2  Python is great for NLP and Data Analysis.\n",
      "3                   AI will change the world.\n"
     ]
    },
    {
     "name": "stderr",
     "output_type": "stream",
     "text": [
      "[nltk_data] Downloading package punkt to\n",
      "[nltk_data]     C:\\Users\\sujal\\AppData\\Roaming\\nltk_data...\n",
      "[nltk_data]   Package punkt is already up-to-date!\n",
      "[nltk_data] Downloading package stopwords to\n",
      "[nltk_data]     C:\\Users\\sujal\\AppData\\Roaming\\nltk_data...\n",
      "[nltk_data]   Package stopwords is already up-to-date!\n",
      "[nltk_data] Downloading package wordnet to\n",
      "[nltk_data]     C:\\Users\\sujal\\AppData\\Roaming\\nltk_data...\n",
      "[nltk_data]   Package wordnet is already up-to-date!\n"
     ]
    }
   ],
   "source": [
    "# -------------------------------\n",
    "# BASIC & INTERMEDIATE PREPROCESSING\n",
    "# -------------------------------\n",
    "\n",
    "import pandas as pd\n",
    "import numpy as np\n",
    "import re\n",
    "import nltk\n",
    "import spacy\n",
    "import seaborn as sns\n",
    "import matplotlib.pyplot as plt\n",
    "from collections import Counter\n",
    "\n",
    "nltk.download('punkt')\n",
    "nltk.download('stopwords')\n",
    "nltk.download('wordnet')\n",
    "\n",
    "from nltk.corpus import stopwords\n",
    "from nltk.tokenize import word_tokenize, sent_tokenize\n",
    "from nltk.stem import WordNetLemmatizer, PorterStemmer\n",
    "\n",
    "# -------------------------------\n",
    "# 1. Load & Explore Data\n",
    "# -------------------------------\n",
    "data = pd.DataFrame({\n",
    "    'text': [\n",
    "        \"Natural Language Processing is fun! 😊\",\n",
    "        \"I can't believe it's already 2025...\",\n",
    "        \"Python is great for NLP and Data Analysis.\",\n",
    "        \"AI will change the world.\"\n",
    "    ]\n",
    "})\n",
    "\n",
    "print(\"Initial Data:\")\n",
    "print(data)\n"
   ]
  },
  {
   "cell_type": "code",
   "execution_count": 3,
   "id": "90f6de14",
   "metadata": {},
   "outputs": [],
   "source": [
    "# -------------------------------\n",
    "# 2. Lowercasing\n",
    "# -------------------------------\n",
    "data['lower'] = data['text'].str.lower()\n"
   ]
  },
  {
   "cell_type": "code",
   "execution_count": 4,
   "id": "8012c833",
   "metadata": {},
   "outputs": [],
   "source": [
    "# -------------------------------\n",
    "# 3. Removing Punctuation & Numbers\n",
    "# -------------------------------\n",
    "data['no_punct'] = data['lower'].apply(lambda x: re.sub(r'[^\\w\\s]', '', x))\n",
    "data['no_num'] = data['no_punct'].apply(lambda x: re.sub(r'\\d+', '', x))\n",
    "\n"
   ]
  },
  {
   "cell_type": "code",
   "execution_count": 5,
   "id": "e3e191ef",
   "metadata": {},
   "outputs": [],
   "source": [
    "# -------------------------------\n",
    "# 4. Tokenization\n",
    "# -------------------------------\n",
    "data['tokens'] = data['no_num'].apply(word_tokenize)\n"
   ]
  },
  {
   "cell_type": "code",
   "execution_count": 6,
   "id": "f5382552",
   "metadata": {},
   "outputs": [],
   "source": [
    "# -------------------------------\n",
    "# 5. Stopword Removal\n",
    "# -------------------------------\n",
    "stop_words = set(stopwords.words('english'))\n",
    "data['no_stopwords'] = data['tokens'].apply(lambda x: [w for w in x if w not in stop_words])\n"
   ]
  },
  {
   "cell_type": "code",
   "execution_count": 7,
   "id": "df670f54",
   "metadata": {},
   "outputs": [],
   "source": [
    "# -------------------------------\n",
    "# 6. Lemmatization\n",
    "# -------------------------------\n",
    "lemmatizer = WordNetLemmatizer()\n",
    "data['lemmatized'] = data['no_stopwords'].apply(lambda x: [lemmatizer.lemmatize(w) for w in x])\n"
   ]
  },
  {
   "cell_type": "code",
   "execution_count": 8,
   "id": "3f7a24ee",
   "metadata": {},
   "outputs": [],
   "source": [
    "# -------------------------------\n",
    "# 7. Stemming\n",
    "# -------------------------------\n",
    "stemmer = PorterStemmer()\n",
    "data['stemmed'] = data['no_stopwords'].apply(lambda x: [stemmer.stem(w) for w in x])\n"
   ]
  },
  {
   "cell_type": "code",
   "execution_count": 9,
   "id": "df3443b9",
   "metadata": {},
   "outputs": [
    {
     "data": {
      "image/png": "[encoded data removed]",
      "text/plain": [
       "<Figure size 640x480 with 1 Axes>"
      ]
     },
     "metadata": {},
     "output_type": "display_data"
    },
    {
     "data": {
      "text/html": [
       "<div>\n",
       "<style scoped>\n",
       "    .dataframe tbody tr th:only-of-type {\n",
       "        vertical-align: middle;\n",
       "    }\n",
       "\n",
       "    .dataframe tbody tr th {\n",
       "        vertical-align: top;\n",
       "    }\n",
       "\n",
       "    .dataframe thead th {\n",
       "        text-align: right;\n",
       "    }\n",
       "</style>\n",
       "<table border=\"1\" class=\"dataframe\">\n",
       "  <thead>\n",
       "    <tr style=\"text-align: right;\">\n",
       "      <th></th>\n",
       "      <th>text</th>\n",
       "      <th>lower</th>\n",
       "      <th>no_punct</th>\n",
       "      <th>no_num</th>\n",
       "      <th>tokens</th>\n",
       "      <th>no_stopwords</th>\n",
       "      <th>lemmatized</th>\n",
       "      <th>stemmed</th>\n",
       "    </tr>\n",
       "  </thead>\n",
       "  <tbody>\n",
       "    <tr>\n",
       "      <th>0</th>\n",
       "      <td>Natural Language Processing is fun! 😊</td>\n",
       "      <td>natural language processing is fun! 😊</td>\n",
       "      <td>natural language processing is fun</td>\n",
       "      <td>natural language processing is fun</td>\n",
       "      <td>[natural, language, processing, is, fun]</td>\n",
       "      <td>[natural, language, processing, fun]</td>\n",
       "      <td>[natural, language, processing, fun]</td>\n",
       "      <td>[natur, languag, process, fun]</td>\n",
       "    </tr>\n",
       "    <tr>\n",
       "      <th>1</th>\n",
       "      <td>I can't believe it's already 2025...</td>\n",
       "      <td>i can't believe it's already 2025...</td>\n",
       "      <td>i cant believe its already 2025</td>\n",
       "      <td>i cant believe its already</td>\n",
       "      <td>[i, cant, believe, its, already]</td>\n",
       "      <td>[cant, believe, already]</td>\n",
       "      <td>[cant, believe, already]</td>\n",
       "      <td>[cant, believ, alreadi]</td>\n",
       "    </tr>\n",
       "    <tr>\n",
       "      <th>2</th>\n",
       "      <td>Python is great for NLP and Data Analysis.</td>\n",
       "      <td>python is great for nlp and data analysis.</td>\n",
       "      <td>python is great for nlp and data analysis</td>\n",
       "      <td>python is great for nlp and data analysis</td>\n",
       "      <td>[python, is, great, for, nlp, and, data, analy...</td>\n",
       "      <td>[python, great, nlp, data, analysis]</td>\n",
       "      <td>[python, great, nlp, data, analysis]</td>\n",
       "      <td>[python, great, nlp, data, analysi]</td>\n",
       "    </tr>\n",
       "    <tr>\n",
       "      <th>3</th>\n",
       "      <td>AI will change the world.</td>\n",
       "      <td>ai will change the world.</td>\n",
       "      <td>ai will change the world</td>\n",
       "      <td>ai will change the world</td>\n",
       "      <td>[ai, will, change, the, world]</td>\n",
       "      <td>[ai, change, world]</td>\n",
       "      <td>[ai, change, world]</td>\n",
       "      <td>[ai, chang, world]</td>\n",
       "    </tr>\n",
       "  </tbody>\n",
       "</table>\n",
       "</div>"
      ],
      "text/plain": [
       "                                         text  \\\n",
       "0       Natural Language Processing is fun! 😊   \n",
       "1        I can't believe it's already 2025...   \n",
       "2  Python is great for NLP and Data Analysis.   \n",
       "3                   AI will change the world.   \n",
       "\n",
       "                                        lower  \\\n",
       "0       natural language processing is fun! 😊   \n",
       "1        i can't believe it's already 2025...   \n",
       "2  python is great for nlp and data analysis.   \n",
       "3                   ai will change the world.   \n",
       "\n",
       "                                    no_punct  \\\n",
       "0        natural language processing is fun    \n",
       "1            i cant believe its already 2025   \n",
       "2  python is great for nlp and data analysis   \n",
       "3                   ai will change the world   \n",
       "\n",
       "                                      no_num  \\\n",
       "0        natural language processing is fun    \n",
       "1                i cant believe its already    \n",
       "2  python is great for nlp and data analysis   \n",
       "3                   ai will change the world   \n",
       "\n",
       "                                              tokens  \\\n",
       "0           [natural, language, processing, is, fun]   \n",
       "1                   [i, cant, believe, its, already]   \n",
       "2  [python, is, great, for, nlp, and, data, analy...   \n",
       "3                     [ai, will, change, the, world]   \n",
       "\n",
       "                           no_stopwords                            lemmatized  \\\n",
       "0  [natural, language, processing, fun]  [natural, language, processing, fun]   \n",
       "1              [cant, believe, already]              [cant, believe, already]   \n",
       "2  [python, great, nlp, data, analysis]  [python, great, nlp, data, analysis]   \n",
       "3                   [ai, change, world]                   [ai, change, world]   \n",
       "\n",
       "                               stemmed  \n",
       "0       [natur, languag, process, fun]  \n",
       "1              [cant, believ, alreadi]  \n",
       "2  [python, great, nlp, data, analysi]  \n",
       "3                   [ai, chang, world]  "
      ]
     },
     "execution_count": 9,
     "metadata": {},
     "output_type": "execute_result"
    }
   ],
   "source": [
    "# -------------------------------\n",
    "# 8. Visualization: Word Frequency\n",
    "# -------------------------------\n",
    "all_words = [word for tokens in data['no_stopwords'] for word in tokens]\n",
    "word_freq = Counter(all_words)\n",
    "word_df = pd.DataFrame(word_freq.items(), columns=['word', 'count']).sort_values(by='count', ascending=False)\n",
    "\n",
    "sns.barplot(x='count', y='word', data=word_df.head(10))\n",
    "plt.title(\"Top 10 Words\")\n",
    "plt.show()\n",
    "\n",
    "data"
   ]
  }
 ],
 "metadata": {
  "kernelspec": {
   "display_name": "Python 3",
   "language": "python",
   "name": "python3"
  },
  "language_info": {
   "codemirror_mode": {
    "name": "ipython",
    "version": 3
   },
   "file_extension": ".py",
   "mimetype": "text/x-python",
   "name": "python",
   "nbconvert_exporter": "python",
   "pygments_lexer": "ipython3",
   "version": "3.11.5"
  }
 },
 "nbformat": 4,
 "nbformat_minor": 5
}
